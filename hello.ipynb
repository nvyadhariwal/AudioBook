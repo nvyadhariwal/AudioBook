{
 "cells": [
  {
   "cell_type": "code",
   "execution_count": null,
   "id": "bef12300",
   "metadata": {},
   "outputs": [
    {
     "name": "stdout",
     "output_type": "stream",
     "text": [
      "200\n",
      "Male Voice : HKEY_LOCAL_MACHINE\\SOFTWARE\\Microsoft\\Speech\\Voices\\Tokens\\TTS_MS_EN-US_DAVID_11.0\n",
      "Female Voice : HKEY_LOCAL_MACHINE\\SOFTWARE\\Microsoft\\Speech\\Voices\\Tokens\\TTS_MS_EN-GB_HAZEL_11.0\n"
     ]
    }
   ],
   "source": [
    "import pyttsx3\n",
    "import PyPDF2\n",
    "from tkinter.filedialog import *\n",
    "\n",
    "\n",
    "engine = pyttsx3.init()\n",
    "rate = engine.getProperty(\"rate\")\n",
    "engine.setProperty(\"rate\",150)\n",
    "print(rate)\n",
    "\n",
    "\n",
    "voices = engine.getProperty(\"voices\")\n",
    "print(\"Male Voice : {0}\".format(voices[0].id))\n",
    "print(\"Female Voice : {0}\".format(voices[1].id))\n",
    "\n",
    "engine.setProperty(\"voice\", voices[1].id)\n",
    "\n",
    "\n",
    "\n",
    "book = askopenfilename()\n",
    "pdfreader = PyPDF2.PdfFileReader(book)\n",
    "pages = pdfreader.numPages\n",
    "\n",
    "for num in range(0, pages):\n",
    "    page = pdfreader.getPage(num)\n",
    "    text = page.extractText()\n",
    "    player = pyttsx3.init()\n",
    "    player.say(text)\n",
    "    player.runAndWait()\n",
    "\n"
   ]
  },
  {
   "cell_type": "code",
   "execution_count": null,
   "id": "d2dc7943",
   "metadata": {},
   "outputs": [],
   "source": []
  }
 ],
 "metadata": {
  "kernelspec": {
   "display_name": "Python 3 (ipykernel)",
   "language": "python",
   "name": "python3"
  },
  "language_info": {
   "codemirror_mode": {
    "name": "ipython",
    "version": 3
   },
   "file_extension": ".py",
   "mimetype": "text/x-python",
   "name": "python",
   "nbconvert_exporter": "python",
   "pygments_lexer": "ipython3",
   "version": "3.9.7"
  }
 },
 "nbformat": 4,
 "nbformat_minor": 5
}
